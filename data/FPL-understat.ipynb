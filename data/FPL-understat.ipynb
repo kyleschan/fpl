{
 "cells": [
  {
   "cell_type": "code",
   "execution_count": 2,
   "metadata": {},
   "outputs": [],
   "source": [
    "import asyncio\n",
    "import json\n",
    "try:\n",
    "   import cPickle as pickle\n",
    "except:\n",
    "   import pickle\n",
    "import pandas as pd\n",
    "import aiohttp\n",
    "import requests\n",
    "\n",
    "from understat import Understat"
   ]
  },
  {
   "cell_type": "code",
   "execution_count": 3,
   "metadata": {},
   "outputs": [],
   "source": [
    "def update_id_map():\n",
    "    \n",
    "    # FPL team codes\n",
    "    LEI = 9\n",
    "    LEE = 10\n",
    "    \n",
    "    with open('id_map', 'rb') as input_file:\n",
    "        id_map = pickle.load(input_file)\n",
    "    new_df = fpl_df[~fpl_df['id'].isin(id_map.keys())]\n",
    "    new_u_df = df[~df['id'].isin(id_map.values())]\n",
    "    \n",
    "    if new_u_df.shape[0] > 0 and new_df.shape[0] == new_u_df.shape[0]:\n",
    "        lei_lee_swap = dict(enumerate([LEE, LEI], LEI)) # Mapping to swap LEE AND LEI\n",
    "        new_df['team'] = new_df['team'].map(lei_lee_swap)\n",
    "        new_df.sort_values(['team', 'first_name', 'second_name'], inplace=True)\n",
    "        new_u_df.sort_values(['team_title', 'player_name'], inplace=True)\n",
    "        new_ids = {k:v for k, v in zip(new_df['id'], new_u_df['id'])}\n",
    "        new_id_map = {**id_map, **new_ids}\n",
    "        with open('id_map', 'wb') as output_file:\n",
    "            pickle.dump(new_id_map, output_file)"
   ]
  },
  {
   "cell_type": "code",
   "execution_count": 4,
   "metadata": {},
   "outputs": [],
   "source": [
    "async def main():\n",
    "    async with aiohttp.ClientSession() as session:\n",
    "        understat = Understat(session)\n",
    "        players = await understat.get_league_players(\n",
    "            \"epl\", 2020,\n",
    "        )\n",
    "        return json.dumps(players)"
   ]
  },
  {
   "cell_type": "code",
   "execution_count": 5,
   "metadata": {},
   "outputs": [],
   "source": [
    "df = pd.read_json(await main())\n",
    "\n",
    "fpl_data = requests.get(url='https://fantasy.premierleague.com/api/bootstrap-static/').json()\n",
    "fpl_df = pd.DataFrame(fpl_data['elements'])\n",
    "fpl_df = fpl_df[['first_name', 'second_name', 'web_name', 'element_type', \n",
    "                 'ep_next', 'ep_this', 'event_points', 'form', 'id',\n",
    "                 'now_cost', 'points_per_game', 'selected_by_percent',\n",
    "                 'team', 'total_points', 'value_form', 'value_season',\n",
    "                 'minutes', 'goals_scored', 'assists', 'clean_sheets',\n",
    "                 'goals_conceded', 'yellow_cards', 'red_cards','saves',\n",
    "                 'bonus', 'bps', 'influence', 'creativity', 'threat',\n",
    "                 'ict_index']]\n",
    "fpl_df = fpl_df[fpl_df['minutes'] > 0]"
   ]
  },
  {
   "cell_type": "code",
   "execution_count": 52,
   "metadata": {},
   "outputs": [
    {
     "data": {
      "text/plain": [
       "Index(['id', 'player_name', 'games', 'time', 'goals', 'xG', 'assists', 'xA',\n",
       "       'shots', 'key_passes', 'yellow_cards', 'red_cards', 'position',\n",
       "       'team_title', 'npg', 'npxG', 'xGChain', 'xGBuildup', 'first_name',\n",
       "       'second_name', 'web_name', 'element_type', 'ep_next', 'ep_this',\n",
       "       'event_points', 'form', 'id_fpl', 'now_cost', 'points_per_game',\n",
       "       'selected_by_percent', 'team', 'total_points', 'value_form',\n",
       "       'value_season', 'minutes', 'goals_scored', 'assists_fpl',\n",
       "       'clean_sheets', 'goals_conceded', 'yellow_cards_fpl', 'red_cards_fpl',\n",
       "       'saves', 'bonus', 'bps', 'influence', 'creativity', 'threat',\n",
       "       'ict_index'],\n",
       "      dtype='object')"
      ]
     },
     "execution_count": 52,
     "metadata": {},
     "output_type": "execute_result"
    }
   ],
   "source": [
    "update_id_map()\n",
    "with open('id_map', 'rb') as file:\n",
    "    id_map = pickle.load(file)\n",
    "fpl_df = fpl_df.assign(understat_id=fpl_df['id'].map(id_map))\n",
    "combined_df = df.join(fpl_df.set_index('understat_id'), on='id', rsuffix='_fpl')\n",
    "combined_df.columns"
   ]
  },
  {
   "cell_type": "code",
   "execution_count": 53,
   "metadata": {},
   "outputs": [],
   "source": [
    "combined_df = combined_df[['id', 'id_fpl', 'player_name', 'web_name', 'team_title',\n",
    "                           'team', 'element_type', 'games', 'minutes', 'goals_scored',\n",
    "                           'xG', 'assists_fpl', 'xA', 'shots', 'key_passes', 'npg',\n",
    "                           'npxG', 'xGChain', 'xGBuildup', 'ep_next',\n",
    "                           'ep_this', 'event_points', 'form', 'now_cost',\n",
    "                           'points_per_game', 'selected_by_percent', 'total_points',\n",
    "                           'value_form', 'value_season', 'clean_sheets',\n",
    "                           'yellow_cards_fpl', 'red_cards_fpl', 'saves', 'bonus',\n",
    "                           'bps', 'influence', 'creativity', 'threat', 'ict_index']]"
   ]
  },
  {
   "cell_type": "code",
   "execution_count": 54,
   "metadata": {},
   "outputs": [],
   "source": [
    "current_column_names = combined_df.columns\n",
    "new_column_names = ['player_id', 'player_id_fpl', 'player_name', 'web_name',\n",
    "                    'Team', 'team_id', 'Position', 'Games', 'Minutes',\n",
    "                    'Goals', 'Expected Goals', 'Assists', 'Expected Assists',\n",
    "                    'Shots', 'Key Passes', 'Non-Penalty Goals',\n",
    "                    'Expected Goals (Non-Penalty)', 'Expected Goals (Chain)',\n",
    "                    'Expected Goals (Build-Up)', 'Expected Points (Next GW)',\n",
    "                    'Expected Points (This GW)', 'GW Points', 'Form', 'Cost',\n",
    "                    'Points per Game', 'Selected By (%)', 'Total Points', 'Value (Form)',\n",
    "                    'Value (Season)', 'Clean Sheets', 'Yellow Cards', 'Red Cards',\n",
    "                    'Saves', 'Bonus', 'BPS', 'Influence', 'Creativity', 'Threat',\n",
    "                    'ICT Index']\n",
    "column_map = dict(zip(current_column_names, new_column_names))\n",
    "combined_df = combined_df.rename(columns=column_map)"
   ]
  },
  {
   "cell_type": "code",
   "execution_count": 37,
   "metadata": {},
   "outputs": [
    {
     "data": {
      "text/html": [
       "<div>\n",
       "<style scoped>\n",
       "    .dataframe tbody tr th:only-of-type {\n",
       "        vertical-align: middle;\n",
       "    }\n",
       "\n",
       "    .dataframe tbody tr th {\n",
       "        vertical-align: top;\n",
       "    }\n",
       "\n",
       "    .dataframe thead th {\n",
       "        text-align: right;\n",
       "    }\n",
       "</style>\n",
       "<table border=\"1\" class=\"dataframe\">\n",
       "  <thead>\n",
       "    <tr style=\"text-align: right;\">\n",
       "      <th></th>\n",
       "      <th>player_id</th>\n",
       "      <th>player_id_fpl</th>\n",
       "      <th>player_name</th>\n",
       "      <th>web_name</th>\n",
       "      <th>Team</th>\n",
       "      <th>team_id</th>\n",
       "      <th>Position</th>\n",
       "      <th>Games</th>\n",
       "      <th>Minutes</th>\n",
       "      <th>Goals</th>\n",
       "      <th>...</th>\n",
       "      <th>Clean Sheets</th>\n",
       "      <th>Yellow Cards</th>\n",
       "      <th>Red Cards</th>\n",
       "      <th>Saves</th>\n",
       "      <th>Bonus</th>\n",
       "      <th>BPS</th>\n",
       "      <th>Influence</th>\n",
       "      <th>Creativity</th>\n",
       "      <th>Threat</th>\n",
       "      <th>ICT Index</th>\n",
       "    </tr>\n",
       "  </thead>\n",
       "  <tbody>\n",
       "    <tr>\n",
       "      <th>32</th>\n",
       "      <td>592</td>\n",
       "      <td>106</td>\n",
       "      <td>Ross Barkley</td>\n",
       "      <td>Barkley</td>\n",
       "      <td>Aston Villa,Chelsea</td>\n",
       "      <td>2</td>\n",
       "      <td>3</td>\n",
       "      <td>8</td>\n",
       "      <td>494</td>\n",
       "      <td>2</td>\n",
       "      <td>...</td>\n",
       "      <td>2</td>\n",
       "      <td>0</td>\n",
       "      <td>0</td>\n",
       "      <td>0</td>\n",
       "      <td>4</td>\n",
       "      <td>116</td>\n",
       "      <td>148.8</td>\n",
       "      <td>223.9</td>\n",
       "      <td>205.0</td>\n",
       "      <td>57.8</td>\n",
       "    </tr>\n",
       "    <tr>\n",
       "      <th>55</th>\n",
       "      <td>503</td>\n",
       "      <td>569</td>\n",
       "      <td>Theo Walcott</td>\n",
       "      <td>Cavani</td>\n",
       "      <td>Everton,Southampton</td>\n",
       "      <td>13</td>\n",
       "      <td>4</td>\n",
       "      <td>5</td>\n",
       "      <td>82</td>\n",
       "      <td>1</td>\n",
       "      <td>...</td>\n",
       "      <td>0</td>\n",
       "      <td>1</td>\n",
       "      <td>0</td>\n",
       "      <td>0</td>\n",
       "      <td>0</td>\n",
       "      <td>29</td>\n",
       "      <td>34.2</td>\n",
       "      <td>2.4</td>\n",
       "      <td>83.0</td>\n",
       "      <td>11.9</td>\n",
       "    </tr>\n",
       "    <tr>\n",
       "      <th>63</th>\n",
       "      <td>688</td>\n",
       "      <td>115</td>\n",
       "      <td>Ruben Loftus-Cheek</td>\n",
       "      <td>Loftus-Cheek</td>\n",
       "      <td>Chelsea,Fulham</td>\n",
       "      <td>8</td>\n",
       "      <td>3</td>\n",
       "      <td>5</td>\n",
       "      <td>252</td>\n",
       "      <td>1</td>\n",
       "      <td>...</td>\n",
       "      <td>1</td>\n",
       "      <td>1</td>\n",
       "      <td>0</td>\n",
       "      <td>0</td>\n",
       "      <td>0</td>\n",
       "      <td>53</td>\n",
       "      <td>54.4</td>\n",
       "      <td>37.4</td>\n",
       "      <td>76.0</td>\n",
       "      <td>16.7</td>\n",
       "    </tr>\n",
       "  </tbody>\n",
       "</table>\n",
       "<p>3 rows × 39 columns</p>\n",
       "</div>"
      ],
      "text/plain": [
       "    player_id  player_id_fpl         player_name      web_name  \\\n",
       "32        592            106        Ross Barkley       Barkley   \n",
       "55        503            569        Theo Walcott        Cavani   \n",
       "63        688            115  Ruben Loftus-Cheek  Loftus-Cheek   \n",
       "\n",
       "                   Team  team_id  Position  Games  Minutes  Goals  ...  \\\n",
       "32  Aston Villa,Chelsea        2         3      8      494      2  ...   \n",
       "55  Everton,Southampton       13         4      5       82      1  ...   \n",
       "63       Chelsea,Fulham        8         3      5      252      1  ...   \n",
       "\n",
       "    Clean Sheets  Yellow Cards  Red Cards  Saves  Bonus  BPS  Influence  \\\n",
       "32             2             0          0      0      4  116      148.8   \n",
       "55             0             1          0      0      0   29       34.2   \n",
       "63             1             1          0      0      0   53       54.4   \n",
       "\n",
       "    Creativity  Threat ICT Index  \n",
       "32       223.9   205.0      57.8  \n",
       "55         2.4    83.0      11.9  \n",
       "63        37.4    76.0      16.7  \n",
       "\n",
       "[3 rows x 39 columns]"
      ]
     },
     "execution_count": 37,
     "metadata": {},
     "output_type": "execute_result"
    }
   ],
   "source": [
    "combined_df[combined_df['Team'].str.contains(',')]"
   ]
  },
  {
   "cell_type": "code",
   "execution_count": 55,
   "metadata": {},
   "outputs": [],
   "source": [
    "combined_df.at[32, 'Team'] = 'Aston Villa'\n",
    "combined_df.at[55, 'Team'] = 'Southampton'\n",
    "combined_df.at[63, 'Team'] = 'Fulham'"
   ]
  },
  {
   "cell_type": "code",
   "execution_count": 56,
   "metadata": {},
   "outputs": [],
   "source": [
    "# Per match stats\n",
    "combined_df['Expected Goals per Game'] = (combined_df['Expected Goals'] / combined_df['Games'])\n",
    "combined_df['Expected Assists per Game'] = (combined_df['Expected Assists'] / combined_df['Games'])\n",
    "combined_df['Key Passes per Game'] = (combined_df['Key Passes'] / combined_df['Games'])\n",
    "combined_df['Shots per Game'] = (combined_df['Shots'] / combined_df['Games'])\n",
    "combined_df['Points per Game'] = (combined_df['Total Points'] / combined_df['Games'])\n",
    "combined_df['BPS per Game'] = (combined_df['BPS'] / combined_df['Games'])"
   ]
  },
  {
   "cell_type": "code",
   "execution_count": 57,
   "metadata": {},
   "outputs": [],
   "source": [
    "# Per 90 min. stats\n",
    "combined_df['Expected Goals per 90 min'] = (combined_df['Expected Goals'] / combined_df['Minutes']) * 90\n",
    "combined_df['Expected Assists per 90 min'] = (combined_df['Expected Assists'] / combined_df['Minutes']) * 90\n",
    "combined_df['Key Passes per 90 min'] = (combined_df['Key Passes'] / combined_df['Minutes']) * 90\n",
    "combined_df['Shots per 90 min'] = (combined_df['Shots'] / combined_df['Minutes']) * 90\n",
    "combined_df['Points per 90 min'] = (combined_df['Total Points'] / combined_df['Minutes']) * 90\n",
    "combined_df['BPS per 90 min'] = (combined_df['BPS'] / combined_df['Minutes']) * 90"
   ]
  },
  {
   "cell_type": "code",
   "execution_count": 58,
   "metadata": {},
   "outputs": [],
   "source": [
    "# Per 90 min. per £1M stats\n",
    "combined_df['Expected Goals per 90 min per £1M'] = combined_df['Expected Goals per 90 min'] / (combined_df['Cost'] / 10)\n",
    "combined_df['Expected Assists per 90 min per £1M'] = combined_df['Expected Assists per 90 min'] / (combined_df['Cost'] / 10)\n",
    "combined_df['Key Passes per 90 min per £1M'] = combined_df['Key Passes per 90 min'] / (combined_df['Cost'] / 10)\n",
    "combined_df['Shots per 90 min per £1M'] = combined_df['Shots per 90 min'] / (combined_df['Cost'] / 10)\n",
    "combined_df['Points per 90 min per £1M'] = combined_df['Points per 90 min'] / (combined_df['Cost'] / 10)\n",
    "combined_df['BPS per 90 min per £1M'] = combined_df['BPS per 90 min'] / (combined_df['Cost'] / 10)"
   ]
  },
  {
   "cell_type": "code",
   "execution_count": 62,
   "metadata": {},
   "outputs": [],
   "source": [
    "# Value added stats\n",
    "combined_df['Value Added per £1M'] = (combined_df['Value (Season)'].astype('float32') - 2) / (combined_df['Cost'] / 10)"
   ]
  },
  {
   "cell_type": "code",
   "execution_count": 63,
   "metadata": {},
   "outputs": [],
   "source": [
    "combined_df.to_csv('combined_df.csv', index=False)"
   ]
  },
  {
   "cell_type": "code",
   "execution_count": 66,
   "metadata": {},
   "outputs": [
    {
     "data": {
      "text/plain": [
       "Index(['Games', 'Minutes', 'Goals', 'Expected Goals', 'Assists',\n",
       "       'Expected Assists', 'Shots', 'Key Passes', 'Non-Penalty Goals',\n",
       "       'Expected Goals (Non-Penalty)', 'Expected Goals (Chain)',\n",
       "       'Expected Goals (Build-Up)', 'Expected Points (Next GW)',\n",
       "       'Expected Points (This GW)', 'GW Points', 'Form', 'Cost',\n",
       "       'Points per Game', 'Selected By (%)', 'Total Points', 'Value (Form)',\n",
       "       'Value (Season)', 'Clean Sheets', 'Yellow Cards', 'Red Cards', 'Saves',\n",
       "       'Bonus', 'BPS', 'Influence', 'Creativity', 'Threat', 'ICT Index',\n",
       "       'Expected Goals per Game', 'Expected Assists per Game',\n",
       "       'Key Passes per Game', 'Shots per Game', 'BPS per Game',\n",
       "       'Expected Goals per 90 min', 'Expected Assists per 90 min',\n",
       "       'Key Passes per 90 min', 'Shots per 90 min', 'Points per 90 min',\n",
       "       'BPS per 90 min', 'Expected Goals per 90 min per £1M',\n",
       "       'Expected Assists per 90 min per £1M', 'Key Passes per 90 min per £1M',\n",
       "       'Shots per 90 min per £1M', 'Points per 90 min per £1M',\n",
       "       'BPS per 90 min per £1M', 'Value Added per £1M'],\n",
       "      dtype='object')"
      ]
     },
     "execution_count": 66,
     "metadata": {},
     "output_type": "execute_result"
    }
   ],
   "source": [
    "combined_df.loc[:, 'Games':].columns"
   ]
  },
  {
   "cell_type": "code",
   "execution_count": null,
   "metadata": {},
   "outputs": [],
   "source": []
  }
 ],
 "metadata": {
  "kernelspec": {
   "display_name": "fpl",
   "language": "python",
   "name": "fpl"
  },
  "language_info": {
   "codemirror_mode": {
    "name": "ipython",
    "version": 3
   },
   "file_extension": ".py",
   "mimetype": "text/x-python",
   "name": "python",
   "nbconvert_exporter": "python",
   "pygments_lexer": "ipython3",
   "version": "3.8.5"
  }
 },
 "nbformat": 4,
 "nbformat_minor": 4
}
